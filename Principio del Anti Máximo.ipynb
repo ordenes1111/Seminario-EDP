{
 "cells": [
  {
   "cell_type": "markdown",
   "id": "745a8c2b",
   "metadata": {},
   "source": [
    "# Ejemplo del Principio del Anti Máximo"
   ]
  },
  {
   "cell_type": "markdown",
   "id": "c27fa828",
   "metadata": {},
   "source": [
    "Veamos un ejemplo del principio en la siguiente ecuación\n",
    "\n",
    "$$\n",
    "-\\Delta u=\\lambda u+1\\\\\n",
    "u(0)=u(1)=0\n",
    "$$\n",
    "\n",
    "es decir, eligiendo $h(x):=1$, con lo cuál en este caso tendríamos\n",
    "\n",
    "$$\n",
    "\\displaystyle\\int_{[0,1]}h\\phi_1 dx>0\n",
    "$$\n",
    "\n",
    ", verifiquemos empíricamente el resultado, y luego veamos el caso reverso considerando $-h$."
   ]
  },
  {
   "cell_type": "code",
   "execution_count": 24,
   "id": "368b4ed7",
   "metadata": {},
   "outputs": [
    {
     "data": {
      "image/png": "[encoded data removed]",
      "text/plain": [
       "<Figure size 432x288 with 1 Axes>"
      ]
     },
     "metadata": {
      "needs_background": "light"
     },
     "output_type": "display_data"
    }
   ],
   "source": [
    "from fenics import *\n",
    "import numpy as np\n",
    "import matplotlib.pyplot as plt\n",
    "import math\n",
    "import pylab\n",
    "\n",
    "\n",
    "\n",
    "# definimos la partición\n",
    "mesh = IntervalMesh(20, 0, 1)\n",
    "\n",
    "# definir base de Lagrange de polinomios de grado 2.\n",
    "V = FunctionSpace(mesh, \"CG\", 2)\n",
    "\n",
    "\n",
    "\n",
    "\n",
    "# definir las condiciones de borde\n",
    "    \n",
    "u_L = Constant(0) \n",
    "\n",
    "def boundary_L(x, on_boundary):\n",
    "    tol = 1E-14\n",
    "    return on_boundary and near(x[0], 0, tol)\n",
    "\n",
    "bc_L = DirichletBC(V, u_L, boundary_L)   \n",
    "    \n",
    "    \n",
    "    \n",
    "    \n",
    "    \n",
    "u_R  = Constant(0) \n",
    "\n",
    "def boundary_R(x, on_boundary):\n",
    "    tol = 1E-14\n",
    "    return on_boundary and near(x[0], 1, tol)\n",
    "\n",
    "bc_R = DirichletBC(V, u_R, boundary_R)\n",
    "\n",
    "bcs = [bc_L, bc_R]\n",
    "\n",
    "\n",
    "\n",
    "\n",
    "\n",
    "# Definimos arreglos para estudiar la norma\n",
    "x = np.arange(19)\n",
    "y =np.arange(19)\n",
    "z =np.arange(19)\n",
    "\n",
    "    \n",
    "    \n",
    "for i in range(1,20):\n",
    "\n",
    "\n",
    "    # Definir variables\n",
    "    u = TrialFunction(V)\n",
    "    v = TestFunction(V)\n",
    "    \n",
    "    \n",
    "#Definir parte derecha y formulación variacional\n",
    "\n",
    "    #Si queremos -u''=\\lambda u+x^2\n",
    "    #f = Expression('x[0]*x[0]', degree=2)\n",
    "    \n",
    "    #Si queremos -u''=\\lambda u+1\n",
    "    f=Constant(1)\n",
    "    \n",
    "    \n",
    "    \n",
    "    \n",
    "    \n",
    "    a = inner(grad(u), grad(v))*dx - i*inner(u,v)*dx\n",
    "    L = f*v*dx\n",
    "\n",
    "    \n",
    "    \n",
    "    # Resolver problema\n",
    "    u = Function(V)\n",
    "    solve(a == L, u, bcs)\n",
    "    \n",
    "        \n",
    "        \n",
    "    # Relleno de los arreglos\n",
    "    max=u(0.5)\n",
    "    k=errornorm(u_L, u, 'L2')\n",
    "    x[i-1]=i\n",
    "    y[i-1]=abs(max)\n",
    "    z[i-1]=k\n",
    " \n",
    "        \n",
    "   \n",
    "   #Graficar\n",
    "    if i>9: \n",
    "        plot(u, title='Soluciones para distintos parámetros', label=str(i))\n",
    "        plt.legend(bbox_to_anchor=(1.05, 1), loc='upper left', borderaxespad=0.)\n",
    "        \n",
    "\n",
    "\n",
    "    "
   ]
  },
  {
   "cell_type": "markdown",
   "id": "b92d4d88",
   "metadata": {},
   "source": [
    "Con lo que vemos el ejemplo del principio del Anti-Máximo para la elección $h(x)=1$ y luego $h(x)=-1$."
   ]
  },
  {
   "cell_type": "code",
   "execution_count": null,
   "id": "0838a50e",
   "metadata": {},
   "outputs": [],
   "source": []
  }
 ],
 "metadata": {
  "kernelspec": {
   "display_name": "Python 3",
   "language": "python",
   "name": "python3"
  },
  "language_info": {
   "codemirror_mode": {
    "name": "ipython",
    "version": 3
   },
   "file_extension": ".py",
   "mimetype": "text/x-python",
   "name": "python",
   "nbconvert_exporter": "python",
   "pygments_lexer": "ipython3",
   "version": "3.9.4"
  }
 },
 "nbformat": 4,
 "nbformat_minor": 5
}
